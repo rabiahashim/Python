{
 "cells": [
  {
   "cell_type": "markdown",
   "metadata": {},
   "source": [
    "# Q1:"
   ]
  },
  {
   "cell_type": "markdown",
   "metadata": {},
   "source": [
    "Think of at least three kinds of your favorite pizza. Store these pizza names in a list, and then use a for loop to print the name of each pizza."
   ]
  },
  {
   "cell_type": "code",
   "execution_count": 5,
   "metadata": {},
   "outputs": [
    {
     "name": "stdout",
     "output_type": "stream",
     "text": [
      "fajita\n",
      "pepperoni\n",
      "BarBQ\n"
     ]
    }
   ],
   "source": [
    "fav_pizza=['fajita', 'pepperoni', 'BarBQ']\n",
    "for i in fav_pizza:\n",
    "    print(i)"
   ]
  },
  {
   "cell_type": "code",
   "execution_count": null,
   "metadata": {},
   "outputs": [],
   "source": []
  },
  {
   "cell_type": "markdown",
   "metadata": {},
   "source": [
    "# Q2"
   ]
  },
  {
   "cell_type": "markdown",
   "metadata": {},
   "source": [
    "Start with your last question , Modify your for loop to print a sentence using the name of the pizza\n",
    "instead of printing just the name of the pizza. For each pizza you should\n",
    "have one line of output containing a simple statement like I like pepperoni\n",
    "pizza."
   ]
  },
  {
   "cell_type": "code",
   "execution_count": 3,
   "metadata": {},
   "outputs": [
    {
     "name": "stdout",
     "output_type": "stream",
     "text": [
      "I like fajita pizza.\n",
      "I like pepperoni pizza.\n",
      "I like BarBQ pizza.\n"
     ]
    }
   ],
   "source": [
    "fav_pizza=['fajita', 'pepperoni', 'BarBQ']\n",
    "for i in fav_pizza:\n",
    "    print(f'I like {i} pizza.')"
   ]
  },
  {
   "cell_type": "code",
   "execution_count": null,
   "metadata": {},
   "outputs": [],
   "source": []
  },
  {
   "cell_type": "code",
   "execution_count": null,
   "metadata": {},
   "outputs": [],
   "source": []
  },
  {
   "cell_type": "markdown",
   "metadata": {},
   "source": [
    "# Q3:"
   ]
  },
  {
   "cell_type": "markdown",
   "metadata": {},
   "source": [
    "Use a for loop to print the numbers from 1 to 20,\n",
    "inclusive."
   ]
  },
  {
   "cell_type": "code",
   "execution_count": 10,
   "metadata": {},
   "outputs": [
    {
     "name": "stdout",
     "output_type": "stream",
     "text": [
      "1\n",
      "2\n",
      "3\n",
      "4\n",
      "5\n",
      "6\n",
      "7\n",
      "8\n",
      "9\n",
      "10\n",
      "11\n",
      "12\n",
      "13\n",
      "14\n",
      "15\n",
      "16\n",
      "17\n",
      "18\n",
      "19\n",
      "20\n"
     ]
    }
   ],
   "source": [
    "for i in range(1,21):\n",
    "    print(i)\n"
   ]
  },
  {
   "cell_type": "code",
   "execution_count": null,
   "metadata": {},
   "outputs": [],
   "source": []
  },
  {
   "cell_type": "code",
   "execution_count": null,
   "metadata": {},
   "outputs": [],
   "source": []
  },
  {
   "cell_type": "markdown",
   "metadata": {},
   "source": [
    "# Q4:"
   ]
  },
  {
   "cell_type": "markdown",
   "metadata": {},
   "source": [
    "Use the third argument of the range() function to make a list\n",
    "of the odd numbers from 1 to 20. Use a for loop to print each number."
   ]
  },
  {
   "cell_type": "code",
   "execution_count": 14,
   "metadata": {},
   "outputs": [
    {
     "name": "stdout",
     "output_type": "stream",
     "text": [
      "1\n",
      "3\n",
      "5\n",
      "7\n",
      "9\n",
      "11\n",
      "13\n",
      "15\n",
      "17\n",
      "19\n"
     ]
    }
   ],
   "source": [
    "\n",
    "for i in range(1,21,2):\n",
    "    print(i)\n"
   ]
  },
  {
   "cell_type": "code",
   "execution_count": null,
   "metadata": {},
   "outputs": [],
   "source": []
  },
  {
   "cell_type": "code",
   "execution_count": null,
   "metadata": {},
   "outputs": [],
   "source": []
  },
  {
   "cell_type": "markdown",
   "metadata": {},
   "source": [
    "# Q5:"
   ]
  },
  {
   "cell_type": "markdown",
   "metadata": {},
   "source": [
    "Make a list of the multiples of 3 from 3 to 30. Use a for loop to\n",
    "print the numbers in your list."
   ]
  },
  {
   "cell_type": "code",
   "execution_count": 2,
   "metadata": {},
   "outputs": [
    {
     "name": "stdout",
     "output_type": "stream",
     "text": [
      "3 6 9 12 15 18 21 24 27 30 "
     ]
    }
   ],
   "source": [
    "for i in range(3,31,3):\n",
    "    print(i, end=\" \")"
   ]
  },
  {
   "cell_type": "code",
   "execution_count": 1,
   "metadata": {},
   "outputs": [
    {
     "name": "stdout",
     "output_type": "stream",
     "text": [
      "[3, 6, 9, 12, 15, 18, 21, 24, 27, 30]\n"
     ]
    }
   ],
   "source": [
    "multi_list=[1,2,3,4,5,6,7,8,9,10]\n",
    "empty_list=[]\n",
    "for i in multi_list:\n",
    "    empty_list.append(i*3)\n",
    "print(empty_list)"
   ]
  },
  {
   "cell_type": "markdown",
   "metadata": {},
   "source": [
    "# Q6:"
   ]
  },
  {
   "cell_type": "markdown",
   "metadata": {},
   "source": [
    "A number raised to the third power is called a cube. For example,\n",
    "the cube of 2 is written as 2**3 in Python. Make a list of the first 10 cubes (that\n",
    "is, the cube of each integer from 1 through 10), and use a for loop to print out\n",
    "the value of each cube"
   ]
  },
  {
   "cell_type": "code",
   "execution_count": 2,
   "metadata": {},
   "outputs": [
    {
     "name": "stdout",
     "output_type": "stream",
     "text": [
      "1 8 27 64 125 216 343 512 729 1000 "
     ]
    }
   ],
   "source": [
    "for i in range(1,11):\n",
    "    print(i**3 , end=\" \")"
   ]
  },
  {
   "cell_type": "code",
   "execution_count": null,
   "metadata": {},
   "outputs": [],
   "source": []
  },
  {
   "cell_type": "code",
   "execution_count": null,
   "metadata": {},
   "outputs": [],
   "source": []
  },
  {
   "cell_type": "code",
   "execution_count": null,
   "metadata": {},
   "outputs": [],
   "source": []
  },
  {
   "cell_type": "markdown",
   "metadata": {},
   "source": [
    "# Q7:"
   ]
  },
  {
   "cell_type": "markdown",
   "metadata": {},
   "source": [
    "###### Make a python program that conatains your nine favourite dishes in a list called foods.\n",
    "\n",
    "###### Print the message, The first three items in the list are:. \n",
    "###### Then use a slice to print the first three items from that program’s list.\n",
    "\n",
    "###### Print the message, Three items from the middle of the list are:\n",
    "###### Use a slice to print three items from the middle of the list.\n",
    "\n",
    "###### Print the message, The last three items in the list are:\n",
    "###### Use a slice to print the last three items in the list."
   ]
  },
  {
   "cell_type": "code",
   "execution_count": 3,
   "metadata": {},
   "outputs": [
    {
     "name": "stdout",
     "output_type": "stream",
     "text": [
      "The first three items in the list are:\n",
      "['macrooni', 'chicken shashlik', 'alphredo pasta']\n"
     ]
    }
   ],
   "source": [
    "fav_foods=['macrooni','chicken shashlik', 'alphredo pasta', 'Chicken Manchoorian','Singaporian rice','chinese rice','biryani','Zinger','Mayo Roll']\n",
    "print(\"The first three items in the list are:\")\n",
    "print(fav_foods[0:3])"
   ]
  },
  {
   "cell_type": "code",
   "execution_count": 5,
   "metadata": {},
   "outputs": [
    {
     "name": "stdout",
     "output_type": "stream",
     "text": [
      "The middle three items in the list are:\n",
      "['Chicken Manchoorian', 'Singaporian rice', 'chinese rice']\n"
     ]
    }
   ],
   "source": [
    "fav_foods=['macrooni','chicken shashlik', 'alphredo pasta', 'Chicken Manchoorian','Singaporian rice','chinese rice','biryani','Zinger','Mayo Roll']\n",
    "print(\"The middle three items in the list are:\")\n",
    "print(fav_foods[3:6])"
   ]
  },
  {
   "cell_type": "code",
   "execution_count": 6,
   "metadata": {},
   "outputs": [
    {
     "name": "stdout",
     "output_type": "stream",
     "text": [
      "The last three items in the list are:\n",
      "['biryani', 'Zinger', 'Mayo Roll']\n"
     ]
    }
   ],
   "source": [
    "fav_foods=['macrooni','chicken shashlik', 'alphredo pasta', 'Chicken Manchoorian','Singaporian rice','chinese rice','biryani','Zinger','Mayo Roll']\n",
    "print(\"The last three items in the list are:\")\n",
    "print(fav_foods[6:])"
   ]
  },
  {
   "cell_type": "code",
   "execution_count": null,
   "metadata": {},
   "outputs": [],
   "source": []
  },
  {
   "cell_type": "code",
   "execution_count": null,
   "metadata": {},
   "outputs": [],
   "source": []
  },
  {
   "cell_type": "code",
   "execution_count": null,
   "metadata": {},
   "outputs": [],
   "source": []
  },
  {
   "cell_type": "code",
   "execution_count": null,
   "metadata": {},
   "outputs": [],
   "source": []
  },
  {
   "cell_type": "markdown",
   "metadata": {},
   "source": [
    "# Q8:"
   ]
  },
  {
   "cell_type": "markdown",
   "metadata": {},
   "source": [
    "### Start with your program from your last Question8.\n",
    "###### Make a copy of the list of foods, and call it friend_foods.\n",
    "###### Then, do the following:\n",
    "######    Add a new dish to the original list.\n",
    "######    Add a different dish to the list friend_foodss.\n",
    "######    Prove that you have two separate lists. \n",
    "###### Print the message, My favorite pizzas are: and then use a for loop to print the first list. \n",
    "###### Print the message,\n",
    "###### My friend’s favorite foods are:, and then use a for loop to print the second list.\n",
    "    \n",
    "##### NOTE: Make sure each new dish is stored in the appropriate list."
   ]
  },
  {
   "cell_type": "code",
   "execution_count": 8,
   "metadata": {},
   "outputs": [
    {
     "name": "stdout",
     "output_type": "stream",
     "text": [
      "['macrooni', 'chicken shashlik', 'alphredo pasta', 'Chicken Manchoorian', 'Singaporian rice', 'chinese rice', 'biryani', 'Zinger', 'Mayo Roll']\n"
     ]
    }
   ],
   "source": [
    "fav_foods=['macrooni','chicken shashlik', 'alphredo pasta', 'Chicken Manchoorian','Singaporian rice','chinese rice','biryani','Zinger','Mayo Roll']\n",
    "print(fav_foods)"
   ]
  },
  {
   "cell_type": "code",
   "execution_count": 9,
   "metadata": {},
   "outputs": [
    {
     "name": "stdout",
     "output_type": "stream",
     "text": [
      "['macrooni', 'chicken shashlik', 'alphredo pasta', 'Chicken Manchoorian', 'Singaporian rice', 'chinese rice', 'biryani', 'Zinger', 'Mayo Roll']\n"
     ]
    }
   ],
   "source": [
    "friend_foods=fav_foods.copy()\n",
    "print(friend_foods)"
   ]
  },
  {
   "cell_type": "code",
   "execution_count": 10,
   "metadata": {},
   "outputs": [
    {
     "name": "stdout",
     "output_type": "stream",
     "text": [
      "['macrooni', 'chicken shashlik', 'alphredo pasta', 'Chicken Manchoorian', 'Singaporian rice', 'chinese rice', 'biryani', 'Zinger', 'Mayo Roll', 'haleem']\n"
     ]
    }
   ],
   "source": [
    "fav_foods.append(\"haleem\")\n",
    "print(fav_foods)"
   ]
  },
  {
   "cell_type": "code",
   "execution_count": 11,
   "metadata": {},
   "outputs": [
    {
     "name": "stdout",
     "output_type": "stream",
     "text": [
      "['macrooni', 'chicken shashlik', 'alphredo pasta', 'Chicken Manchoorian', 'Singaporian rice', 'chinese rice', 'biryani', 'Zinger', 'Mayo Roll', 'samosas']\n"
     ]
    }
   ],
   "source": [
    "friend_foods.append(\"samosas\")\n",
    "print(friend_foods)"
   ]
  },
  {
   "cell_type": "code",
   "execution_count": 14,
   "metadata": {},
   "outputs": [
    {
     "name": "stdout",
     "output_type": "stream",
     "text": [
      "My fav food is macrooni.\n",
      "My fav food is chicken shashlik.\n",
      "My fav food is alphredo pasta.\n",
      "My fav food is Chicken Manchoorian.\n",
      "My fav food is Singaporian rice.\n",
      "My fav food is chinese rice.\n",
      "My fav food is biryani.\n",
      "My fav food is Zinger.\n",
      "My fav food is Mayo Roll.\n",
      "My fav food is haleem.\n"
     ]
    }
   ],
   "source": [
    "for i in fav_foods:\n",
    "    print(f'My fav food is {i}.')"
   ]
  },
  {
   "cell_type": "code",
   "execution_count": 15,
   "metadata": {},
   "outputs": [
    {
     "name": "stdout",
     "output_type": "stream",
     "text": [
      "My friend food is macrooni.\n",
      "My friend food is chicken shashlik.\n",
      "My friend food is alphredo pasta.\n",
      "My friend food is Chicken Manchoorian.\n",
      "My friend food is Singaporian rice.\n",
      "My friend food is chinese rice.\n",
      "My friend food is biryani.\n",
      "My friend food is Zinger.\n",
      "My friend food is Mayo Roll.\n",
      "My friend food is samosas.\n"
     ]
    }
   ],
   "source": [
    "for i in friend_foods:\n",
    "    print(f'My friend food is {i}.')"
   ]
  },
  {
   "cell_type": "code",
   "execution_count": null,
   "metadata": {},
   "outputs": [],
   "source": []
  },
  {
   "cell_type": "markdown",
   "metadata": {},
   "source": [
    "# Q9:"
   ]
  },
  {
   "cell_type": "markdown",
   "metadata": {},
   "source": [
    "Take a user input from console line.Store it in a variable called Alien_color.\n",
    "\n",
    "If the alien’s color is red, print a statement that the player just earned 5 points for shooting the alien.\n",
    "\n",
    "If the alien’s color isn’t green, print a statement that the player just earned 10 points.\n",
    "\n",
    "If the alien's color isn't red or green , print a statment :, Alien is no more....."
   ]
  },
  {
   "cell_type": "code",
   "execution_count": 20,
   "metadata": {},
   "outputs": [
    {
     "name": "stdout",
     "output_type": "stream",
     "text": [
      "Enter the alien color:red\n",
      "the player just earned 5 points for shooting the alien.\n"
     ]
    }
   ],
   "source": [
    "alien_color=input(\"Enter the alien color:\")\n",
    "if alien_color==\"red\":\n",
    "    print(\"the player just earned 5 points for shooting the alien.\")\n",
    "elif alien_color==\"green\":\n",
    "    print(\"the player just earned 10 points.\")\n",
    "else:\n",
    "    print(\"Alien is no more.....\")\n",
    "\n"
   ]
  },
  {
   "cell_type": "code",
   "execution_count": null,
   "metadata": {},
   "outputs": [],
   "source": []
  },
  {
   "cell_type": "code",
   "execution_count": null,
   "metadata": {},
   "outputs": [],
   "source": []
  },
  {
   "cell_type": "code",
   "execution_count": null,
   "metadata": {},
   "outputs": [],
   "source": []
  },
  {
   "cell_type": "markdown",
   "metadata": {},
   "source": [
    "# Q10:"
   ]
  },
  {
   "cell_type": "markdown",
   "metadata": {},
   "source": [
    "Write an if-elif-else chain that determines a person’s\n",
    "stage of life. Set a value for the variable age, and then:\n",
    "    \n",
    "•\t If the person is less than 2 years old, print a message that the person is a baby.\n",
    "\n",
    "•\t If the person is at least 2 years old but less than 4, print a message that the person is a toddler.\n",
    "\n",
    "•\t If the person is at least 4 years old but less than 13, print a message that the person is a kid.\n",
    "\n",
    "•\t If the person is at least 13 years old but less than 20, print a message that the person is a teenager.\n",
    "\n",
    "•\t If the person is at least 20 years old but less than 65, print a message that the person is an adult.\n",
    "\n",
    "•\t If the person is age 65 or older, print a message that the person is an elder."
   ]
  },
  {
   "cell_type": "code",
   "execution_count": 22,
   "metadata": {},
   "outputs": [
    {
     "name": "stdout",
     "output_type": "stream",
     "text": [
      "Enter your age:4\n",
      "the person is a kid.\n"
     ]
    }
   ],
   "source": [
    "age=int(input(\"Enter your age:\"))\n",
    "if age<2:\n",
    "    print(\"person is a baby.\")\n",
    "elif age>=2 and age<4:\n",
    "    print(\"the person is a toddler.\")\n",
    "elif age>=4 and age<13:\n",
    "    print(\"the person is a kid.\")\n",
    "elif age>=13 and age<20:\n",
    "    print(\" the person is a teenager.\")\n",
    "elif age>=20 and age<65:\n",
    "    print(\"the person is an adult.\")\n",
    "else:\n",
    "    print(\"the person is an elder.\")"
   ]
  },
  {
   "cell_type": "code",
   "execution_count": null,
   "metadata": {},
   "outputs": [],
   "source": []
  },
  {
   "cell_type": "code",
   "execution_count": null,
   "metadata": {},
   "outputs": [],
   "source": []
  },
  {
   "cell_type": "code",
   "execution_count": null,
   "metadata": {},
   "outputs": [],
   "source": []
  },
  {
   "cell_type": "code",
   "execution_count": null,
   "metadata": {},
   "outputs": [],
   "source": []
  },
  {
   "cell_type": "code",
   "execution_count": null,
   "metadata": {},
   "outputs": [],
   "source": []
  },
  {
   "cell_type": "markdown",
   "metadata": {},
   "source": [
    "# Q11:"
   ]
  },
  {
   "cell_type": "markdown",
   "metadata": {},
   "source": [
    "Do the following to create a program that simulates how websites ensure that everyone has a unique username.\n",
    "\n",
    "•\t Make a list of five or more usernames called current_users.\n",
    "\n",
    "•\t Make another list of five usernames called new_users. \n",
    "Make sure one or two of the new usernames are also in the current_users list.\n",
    "\n",
    "•\t Loop through the new_users list to see if each new username has already been used. \n",
    "If it has, print a message that the person will need to enter a new username. \n",
    "If a username has not been used, print a message saying that the username is available.\n",
    "\n",
    "•\t Make sure your comparison is case insensitive. If 'John' has been used, 'JOHN' should not be accepted."
   ]
  },
  {
   "cell_type": "code",
   "execution_count": 28,
   "metadata": {},
   "outputs": [
    {
     "name": "stdout",
     "output_type": "stream",
     "text": [
      "Enter the user name:yusra\n",
      "yusra User name is available.\n",
      "naureen User name is available.\n",
      "muniba User name is  not available, You have to change your name.\n"
     ]
    }
   ],
   "source": [
    "current_users=['rabia','hadiya','muniba']\n",
    "new_users=['yusra','naureen','muniba']\n",
    "name=input(\"Enter the user name:\")\n",
    "for i in new_users:\n",
    "    if i in current_users:\n",
    "        print( f\"{i} User name is  not available, You have to change your name.\")\n",
    "    else:\n",
    "        print(f\"{i} User name is available.\")"
   ]
  },
  {
   "cell_type": "code",
   "execution_count": null,
   "metadata": {},
   "outputs": [],
   "source": []
  },
  {
   "cell_type": "code",
   "execution_count": null,
   "metadata": {},
   "outputs": [],
   "source": []
  },
  {
   "cell_type": "code",
   "execution_count": null,
   "metadata": {},
   "outputs": [],
   "source": []
  },
  {
   "cell_type": "markdown",
   "metadata": {},
   "source": [
    "# Q12:"
   ]
  },
  {
   "cell_type": "markdown",
   "metadata": {},
   "source": [
    "Use a dictionary to store information about a person you know.\n",
    "Store their first name, last name, age, and the city in which they live. \n",
    "You should have keys such as first_name, last_name, age, and city. \n",
    "Print each piece of information stored in your dictionary"
   ]
  },
  {
   "cell_type": "code",
   "execution_count": 41,
   "metadata": {},
   "outputs": [
    {
     "name": "stdout",
     "output_type": "stream",
     "text": [
      "My Name is: rabiahashim\n",
      "My Age is: 20\n",
      "I live in: sanghar\n"
     ]
    }
   ],
   "source": [
    "personal_dict={\"first_name\":\"rabia\", \"last_name\":\"hashim\",\"age\":20 ,\"city\":\"sanghar\"}\n",
    "print(\"My Name is: \"+str(personal_dict[\"first_name\"])+\"\"+str(personal_dict[\"last_name\"]))\n",
    "print(\"My Age is: \"+str(personal_dict[\"age\"]))\n",
    "print(\"I live in: \"+str(personal_dict[\"city\"]))"
   ]
  },
  {
   "cell_type": "code",
   "execution_count": null,
   "metadata": {},
   "outputs": [],
   "source": []
  },
  {
   "cell_type": "code",
   "execution_count": null,
   "metadata": {},
   "outputs": [],
   "source": []
  },
  {
   "cell_type": "code",
   "execution_count": null,
   "metadata": {},
   "outputs": [],
   "source": []
  },
  {
   "cell_type": "markdown",
   "metadata": {},
   "source": [
    "# Q13:"
   ]
  },
  {
   "cell_type": "markdown",
   "metadata": {},
   "source": [
    "Starts with your last question 12 , loop through the dictionary’s keys and values.\n",
    "When you’re sure that your loop works, add five more Python terms to your\n",
    "dictionary . When you run your program again, these new words and meanings\n",
    "should automatically be included in the output."
   ]
  },
  {
   "cell_type": "code",
   "execution_count": 47,
   "metadata": {},
   "outputs": [
    {
     "name": "stdout",
     "output_type": "stream",
     "text": [
      "first_name rabia\n",
      "last_name hashim\n",
      "age 20\n",
      "city sanghar\n",
      "integer 40\n",
      "string hadiya\n",
      "boolean a/b\n",
      "loop while\n",
      "lower fish\n"
     ]
    }
   ],
   "source": [
    "for k,v in personal_dict.items():\n",
    "    print(k,v)"
   ]
  },
  {
   "cell_type": "code",
   "execution_count": 48,
   "metadata": {},
   "outputs": [],
   "source": [
    "personal_dict['integer']=\"40\"\n",
    "personal_dict['string']=\"hadiya\"\n",
    "personal_dict['boolean']=\"a/b\"\n",
    "personal_dict['loop']=\"while\"\n",
    "personal_dict['lower']=\"fish\""
   ]
  },
  {
   "cell_type": "code",
   "execution_count": 49,
   "metadata": {},
   "outputs": [
    {
     "data": {
      "text/plain": [
       "{'first_name': 'rabia',\n",
       " 'last_name': 'hashim',\n",
       " 'age': 20,\n",
       " 'city': 'sanghar',\n",
       " 'integer': '40',\n",
       " 'string': 'hadiya',\n",
       " 'boolean': 'a/b',\n",
       " 'loop': 'while',\n",
       " 'lower': 'fish'}"
      ]
     },
     "execution_count": 49,
     "metadata": {},
     "output_type": "execute_result"
    }
   ],
   "source": [
    "personal_dict"
   ]
  },
  {
   "cell_type": "code",
   "execution_count": null,
   "metadata": {},
   "outputs": [],
   "source": []
  },
  {
   "cell_type": "code",
   "execution_count": null,
   "metadata": {},
   "outputs": [],
   "source": []
  },
  {
   "cell_type": "markdown",
   "metadata": {},
   "source": [
    "# Q14:"
   ]
  },
  {
   "cell_type": "markdown",
   "metadata": {},
   "source": [
    "Make a dictionary containing three major rivers and the country\n",
    "each river runs through. One key-value pair might be 'nile': 'egypt'.\n",
    "    \n",
    "    \n",
    "•\t Use a loop to print a sentence about each river, such as The Nile runs\n",
    "through Egypt.\n",
    "\n",
    "NOTE: use upper case through keys and values."
   ]
  },
  {
   "cell_type": "code",
   "execution_count": 50,
   "metadata": {},
   "outputs": [
    {
     "name": "stdout",
     "output_type": "stream",
     "text": [
      "The BRAHMAPUTRA runs through BUNGLADESH.\n",
      "The INDUS runs through PAKISTAN.\n",
      "The NILE runs through EGYPT.\n"
     ]
    }
   ],
   "source": [
    "dict={'Brahmaputra':'Bungladesh' , 'Indus':'Pakistan', 'Nile':'Egypt'}\n",
    "for k,v in dict.items():\n",
    "    print( f'The {k.upper()} runs through {v.upper()}.')\n",
    "    "
   ]
  },
  {
   "cell_type": "code",
   "execution_count": null,
   "metadata": {},
   "outputs": [],
   "source": []
  },
  {
   "cell_type": "code",
   "execution_count": null,
   "metadata": {},
   "outputs": [],
   "source": []
  },
  {
   "cell_type": "markdown",
   "metadata": {},
   "source": [
    "# Q15:"
   ]
  },
  {
   "cell_type": "markdown",
   "metadata": {},
   "source": [
    "Make several dictionaries, where the name of each dictionary is the\n",
    "name of a pet. In each dictionary, include the kind of animal and the owner’s\n",
    "name. Store these dictionaries in a list called pets. Next, loop through your list\n",
    "and as you do print everything you know about each pet."
   ]
  },
  {
   "cell_type": "code",
   "execution_count": 1,
   "metadata": {},
   "outputs": [
    {
     "name": "stdout",
     "output_type": "stream",
     "text": [
      "kind= mammal\n",
      "owner_name= mohsin\n",
      "\n",
      "kind= Aves\n",
      "owner_name= rabia\n",
      "\n",
      "kind= bird\n",
      "owner_name= maryam\n",
      "\n",
      "kind= mammal\n",
      "owner_name= mahnoor\n",
      "\n"
     ]
    }
   ],
   "source": [
    "parrot={'kind=':'bird' , 'owner_name=':'maryam'}\n",
    "cat={'kind=':'mammal' , 'owner_name=':'mohsin'}\n",
    "duck={'kind=':'Aves' , 'owner_name=':'rabia'}\n",
    "rabbit={'kind=':'mammal' , 'owner_name=':'mahnoor'}\n",
    "pet=[cat,duck,parrot,rabbit]\n",
    "for p in pet:\n",
    "    for k,v in p.items():\n",
    "        print(k,v)\n",
    "    print()"
   ]
  },
  {
   "cell_type": "code",
   "execution_count": null,
   "metadata": {},
   "outputs": [],
   "source": []
  }
 ],
 "metadata": {
  "kernelspec": {
   "display_name": "Python 3",
   "language": "python",
   "name": "python3"
  },
  "language_info": {
   "codemirror_mode": {
    "name": "ipython",
    "version": 3
   },
   "file_extension": ".py",
   "mimetype": "text/x-python",
   "name": "python",
   "nbconvert_exporter": "python",
   "pygments_lexer": "ipython3",
   "version": "3.7.3"
  }
 },
 "nbformat": 4,
 "nbformat_minor": 2
}
