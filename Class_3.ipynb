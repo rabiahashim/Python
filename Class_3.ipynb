{
 "cells": [
  {
   "cell_type": "markdown",
   "metadata": {},
   "source": [
    "# IF STATEMENT"
   ]
  },
  {
   "cell_type": "code",
   "execution_count": 1,
   "metadata": {},
   "outputs": [
    {
     "name": "stdout",
     "output_type": "stream",
     "text": [
      "yusra\n"
     ]
    }
   ],
   "source": [
    "a=11\n",
    "b=11\n",
    "if a<b:\n",
    "    print(\"rabia hashim\")\n",
    "else:\n",
    "    print(\"yusra\")\n"
   ]
  },
  {
   "cell_type": "code",
   "execution_count": 2,
   "metadata": {},
   "outputs": [
    {
     "name": "stdout",
     "output_type": "stream",
     "text": [
      "Enter the temperature today:34\n",
      "not too good\n"
     ]
    }
   ],
   "source": [
    "temp=int(input(\"Enter the temperature today:\"))\n",
    "if temp<30:\n",
    "    print(\"its good\")\n",
    "else:\n",
    "    print(\"not too good\")"
   ]
  },
  {
   "cell_type": "markdown",
   "metadata": {},
   "source": [
    "# NESTED IF's"
   ]
  },
  {
   "cell_type": "code",
   "execution_count": 9,
   "metadata": {},
   "outputs": [
    {
     "name": "stdout",
     "output_type": "stream",
     "text": [
      "do u have Cnic?yes\n",
      "come in\n",
      "is my name in list?yes\n",
      "Please cast your vote\n"
     ]
    }
   ],
   "source": [
    "cnic=input(\"do u have Cnic?\")\n",
    "if cnic =='yes':\n",
    "    print(\"come in\")\n",
    "    nameinlist=input(\"is my name in list?\")\n",
    "    if nameinlist == 'yes':\n",
    "        print(\"Please cast your vote\")\n",
    "    else:\n",
    "        print(\"you cannot cast your vote\")\n",
    "else:\n",
    "    print(\"you cannot cast your vote\")"
   ]
  },
  {
   "cell_type": "markdown",
   "metadata": {},
   "source": [
    "# IF ELIF Else"
   ]
  },
  {
   "cell_type": "code",
   "execution_count": 17,
   "metadata": {},
   "outputs": [
    {
     "name": "stdout",
     "output_type": "stream",
     "text": [
      "enter your marks?99\n",
      "your marks is 99 and your grade is  A+ .\n"
     ]
    }
   ],
   "source": [
    "marks=int(input(\"enter your marks?\"))\n",
    "grade= \" \"\n",
    "if marks>=90:\n",
    "    grade= \" A+ \"\n",
    "elif marks>=80:\n",
    "    grade= \" A \"\n",
    "elif marks>=70:\n",
    "    grade= \" B \"\n",
    "elif marks>=60:\n",
    "    grade= \" C \"\n",
    "elif marks>=50:\n",
    "    grade= \" D \"\n",
    "else:\n",
    "    print(\"fail\")\n",
    "print(f'your marks is {marks} and your grade is {grade}.')\n",
    "\n",
    " \n",
    "\n"
   ]
  },
  {
   "cell_type": "code",
   "execution_count": 19,
   "metadata": {},
   "outputs": [
    {
     "name": "stdout",
     "output_type": "stream",
     "text": [
      "do u have cnic?no\n",
      "is my name in list?yes\n",
      "you cannot cast your vote\n"
     ]
    }
   ],
   "source": [
    "#And Or Operator\n",
    "cnic=input(\"do u have cnic?\")\n",
    "nameinlist=input(\"is my name in list?\")\n",
    "if cnic=='yes' and nameinlist=='yes':\n",
    "    print(\"you can cast your vote\")\n",
    "else:\n",
    "    print(\"you cannot cast your vote\")\n"
   ]
  },
  {
   "cell_type": "code",
   "execution_count": 20,
   "metadata": {},
   "outputs": [
    {
     "name": "stdout",
     "output_type": "stream",
     "text": [
      "hashim\n"
     ]
    }
   ],
   "source": [
    "'''print(\"rabia\")\n",
    "print(\"yusra\")''' # for paragraph comments\n",
    "print(\"hashim\")"
   ]
  },
  {
   "cell_type": "code",
   "execution_count": null,
   "metadata": {},
   "outputs": [],
   "source": [
    "# for single line comment "
   ]
  },
  {
   "cell_type": "markdown",
   "metadata": {},
   "source": [
    "# LIST"
   ]
  },
  {
   "cell_type": "code",
   "execution_count": 22,
   "metadata": {},
   "outputs": [],
   "source": [
    "students=['rabia','yusra', 'naureen','hadiya', 'muniba']\n",
    "#index      0        1          2        3         4"
   ]
  },
  {
   "cell_type": "code",
   "execution_count": 24,
   "metadata": {},
   "outputs": [
    {
     "data": {
      "text/plain": [
       "'muniba'"
      ]
     },
     "execution_count": 24,
     "metadata": {},
     "output_type": "execute_result"
    }
   ],
   "source": [
    "students[4]"
   ]
  },
  {
   "cell_type": "code",
   "execution_count": 30,
   "metadata": {},
   "outputs": [
    {
     "data": {
      "text/plain": [
       "['rabia',\n",
       " 'yusra',\n",
       " 'naureen',\n",
       " 'hadiya',\n",
       " 'muniba',\n",
       " 'Anisha',\n",
       " 'Anisha',\n",
       " 'Anisha',\n",
       " 'Anisha',\n",
       " 'Anisha']"
      ]
     },
     "execution_count": 30,
     "metadata": {},
     "output_type": "execute_result"
    }
   ],
   "source": [
    "students.append(\"Anisha\")\n",
    "students"
   ]
  },
  {
   "cell_type": "code",
   "execution_count": 31,
   "metadata": {},
   "outputs": [
    {
     "data": {
      "text/plain": [
       "['rabia',\n",
       " 'yusra',\n",
       " 'naureen',\n",
       " 'abcd',\n",
       " 'hadiya',\n",
       " 'muniba',\n",
       " 'Anisha',\n",
       " 'Anisha',\n",
       " 'Anisha',\n",
       " 'Anisha',\n",
       " 'Anisha']"
      ]
     },
     "execution_count": 31,
     "metadata": {},
     "output_type": "execute_result"
    }
   ],
   "source": [
    "students.insert(3,\"abcd\")\n",
    "students"
   ]
  },
  {
   "cell_type": "code",
   "execution_count": null,
   "metadata": {},
   "outputs": [],
   "source": []
  },
  {
   "cell_type": "code",
   "execution_count": null,
   "metadata": {},
   "outputs": [],
   "source": []
  }
 ],
 "metadata": {
  "kernelspec": {
   "display_name": "Python 3",
   "language": "python",
   "name": "python3"
  },
  "language_info": {
   "codemirror_mode": {
    "name": "ipython",
    "version": 3
   },
   "file_extension": ".py",
   "mimetype": "text/x-python",
   "name": "python",
   "nbconvert_exporter": "python",
   "pygments_lexer": "ipython3",
   "version": "3.7.3"
  }
 },
 "nbformat": 4,
 "nbformat_minor": 2
}
