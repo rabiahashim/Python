{
 "cells": [
  {
   "cell_type": "markdown",
   "metadata": {},
   "source": [
    "## 1. Calculate Area of a Circle"
   ]
  },
  {
   "cell_type": "markdown",
   "metadata": {},
   "source": [
    " Write a Python program which accepts the radius of a circle from the user and compute the area.\n",
    " Program Console Sample Output 1:\n",
    " Input Radius: 0.5\n",
    " Area of Circle with radius 0.5 is 0.7853981634"
   ]
  },
  {
   "cell_type": "code",
   "execution_count": 3,
   "metadata": {},
   "outputs": [
    {
     "name": "stdout",
     "output_type": "stream",
     "text": [
      "Enter radius of circle:0.5\n",
      "Area of Circle is: 0.7855\n"
     ]
    }
   ],
   "source": [
    "rad=float(input(\"Enter radius of circle:\"))\n",
    "area=3.142*rad*rad\n",
    "print(\"Area of Circle is:\" , area) "
   ]
  },
  {
   "cell_type": "markdown",
   "metadata": {},
   "source": [
    "## 2. Check Number either positive, negative or zero"
   ]
  },
  {
   "cell_type": "markdown",
   "metadata": {},
   "source": [
    " Write a Python program to check if a number is positive, negative or zero\n",
    " Program Console Sample Output 1:\n",
    " Enter Number: -1\n",
    " Negative Number Entered\n",
    " Program Console Sample Output 2:\n",
    " Integer: 3\n",
    " Positive Number Entered\n",
    " Program Console Sample Output 3:\n",
    " Integer: 0\n",
    " Zero Entered"
   ]
  },
  {
   "cell_type": "code",
   "execution_count": 4,
   "metadata": {},
   "outputs": [
    {
     "name": "stdout",
     "output_type": "stream",
     "text": [
      "Enter a number:-1\n",
      "Negative Number Entered.\n"
     ]
    }
   ],
   "source": [
    "num=int(input(\"Enter a number:\"))\n",
    "if num<0:\n",
    "    print(\"Negative Number Entered.\")\n",
    "elif num>0:\n",
    "    print(\"Positive Number Entered.\")\n",
    "else:\n",
    "    print(\"Zero Entered\")"
   ]
  },
  {
   "cell_type": "code",
   "execution_count": 5,
   "metadata": {},
   "outputs": [
    {
     "name": "stdout",
     "output_type": "stream",
     "text": [
      "Enter a number:3\n",
      "Positive Number Entered.\n"
     ]
    }
   ],
   "source": [
    "num=int(input(\"Enter a number:\"))\n",
    "if num<0:\n",
    "    print(\"Negative Number Entered.\")\n",
    "elif num>0:\n",
    "    print(\"Positive Number Entered.\")\n",
    "else:\n",
    "    print(\"Zero Entered\")"
   ]
  },
  {
   "cell_type": "code",
   "execution_count": 6,
   "metadata": {},
   "outputs": [
    {
     "name": "stdout",
     "output_type": "stream",
     "text": [
      "Enter a number:0\n",
      "Zero Entered\n"
     ]
    }
   ],
   "source": [
    "num=int(input(\"Enter a number:\"))\n",
    "if num<0:\n",
    "    print(\"Negative Number Entered.\")\n",
    "elif num>0:\n",
    "    print(\"Positive Number Entered.\")\n",
    "else:\n",
    "    print(\"Zero Entered\")"
   ]
  },
  {
   "cell_type": "markdown",
   "metadata": {},
   "source": [
    "## 3. Divisibility Check of two numbers"
   ]
  },
  {
   "cell_type": "markdown",
   "metadata": {},
   "source": [
    " Write a Python program to check whether a number is completely divisible by another number. Accept two integer values form the user\n",
    " Program Console Sample Output 1:\n",
    " Enter numerator: 4\n",
    " Enter Denominator: 2\n",
    " Number 4 is Completely divisible by 2\n",
    " Program Console Sample Output 2:\n",
    " Enter numerator: 7\n",
    "\n",
    " Enter Denominator: 4\n",
    " Number 7 is not Completely divisible by 4"
   ]
  },
  {
   "cell_type": "code",
   "execution_count": 15,
   "metadata": {},
   "outputs": [
    {
     "name": "stdout",
     "output_type": "stream",
     "text": [
      "Enter numerator:4\n",
      "Enter denominator:2\n",
      "Number 4 is Completely divisible by 2.\n"
     ]
    }
   ],
   "source": [
    "num1=int(input(\"Enter numerator:\"))\n",
    "num2=int(input(\"Enter denominator:\"))\n",
    "if num1%num2==0:\n",
    "    print('Number {} is Completely divisible by {}.'.format(num1,num2))\n",
    "else:\n",
    "    print('Number {} is not completely divisible by{}.'.format(num1,num2))"
   ]
  },
  {
   "cell_type": "code",
   "execution_count": 16,
   "metadata": {},
   "outputs": [
    {
     "name": "stdout",
     "output_type": "stream",
     "text": [
      "Enter numerator:7\n",
      "Enter denominator:4\n",
      "Number 7 is not completely divisible by4.\n"
     ]
    }
   ],
   "source": [
    "num1=int(input(\"Enter numerator:\"))\n",
    "num2=int(input(\"Enter denominator:\"))\n",
    "if num1%num2==0:\n",
    "    print('Number {} is Completely divisible by {}.'.format(num1,num2))\n",
    "else:\n",
    "    print('Number {} is not completely divisible by{}.'.format(num1,num2))"
   ]
  },
  {
   "cell_type": "markdown",
   "metadata": {},
   "source": [
    "## 4. Calculate Volume of a sphere"
   ]
  },
  {
   "cell_type": "markdown",
   "metadata": {},
   "source": [
    " Write a Python program to get the volume of a sphere, please take the radius as input from user"
   ]
  },
  {
   "cell_type": "markdown",
   "metadata": {},
   "source": [
    " Program Console Output:\n",
    " Enter Radius of Sphere: 1\n",
    " Volume of the Sphere with Radius 1 is 4.18"
   ]
  },
  {
   "cell_type": "code",
   "execution_count": 18,
   "metadata": {},
   "outputs": [
    {
     "name": "stdout",
     "output_type": "stream",
     "text": [
      "Enter Radius of Sphere:1\n",
      "Volume of the Sphere with Radius 1 is 4.189333333333333.\n"
     ]
    }
   ],
   "source": [
    "rad=int(input(\"Enter Radius of Sphere:\"))\n",
    "vol=4/3*3.142*rad*rad*rad\n",
    "print('Volume of the Sphere with Radius {} is {}.'.format(rad,vol))"
   ]
  },
  {
   "cell_type": "markdown",
   "metadata": {},
   "source": [
    "# 5. Copy string n times\n",
    " Write a Python program to get a string which is n (non-negative integer) copies of a given string.\n",
    " Program Console Output:\n",
    " Enter String: Hi\n",
    " How many copies of String you need: 4\n",
    " 4 Copies of Hi are HiHiHiHi"
   ]
  },
  {
   "cell_type": "code",
   "execution_count": 29,
   "metadata": {},
   "outputs": [
    {
     "name": "stdout",
     "output_type": "stream",
     "text": [
      "Enter String:Hi\n",
      "How many copies of String you need:4\n",
      "4 Copies of Hi are  HiHiHiHi\n"
     ]
    }
   ],
   "source": [
    "num1=str(input(\"Enter String:\"))\n",
    "num2=int(input(\"How many copies of String you need:\"))\n",
    "print( '{} Copies of {} are '.format(num2,num1) , num1*num2 )\n"
   ]
  },
  {
   "cell_type": "markdown",
   "metadata": {},
   "source": [
    "# 6. Check a python program to find whether a given number (accept from the user) is even or odd, print out an appropriate message to the user\n",
    " Program Console Output 1:\n",
    " Enter Number: 4\n",
    " 4 is Even\n",
    " Program Console Output 2:\n",
    " Enter Number: 9\n",
    " 9 is Odd"
   ]
  },
  {
   "cell_type": "code",
   "execution_count": 30,
   "metadata": {},
   "outputs": [
    {
     "name": "stdout",
     "output_type": "stream",
     "text": [
      "Enter Number:4\n",
      "4 is Even\n"
     ]
    }
   ],
   "source": [
    "num1=int(input(\"Enter Number:\"))\n",
    "if num1%2==0:\n",
    "    print( num1 , \"is Even\")\n",
    "else:\n",
    "    print(num1 , \"is Odd\")"
   ]
  },
  {
   "cell_type": "code",
   "execution_count": 32,
   "metadata": {},
   "outputs": [
    {
     "name": "stdout",
     "output_type": "stream",
     "text": [
      "Enter Number:9\n",
      "9 is Odd\n"
     ]
    }
   ],
   "source": [
    "num1=int(input(\"Enter Number:\"))\n",
    "if num1%2==0:\n",
    "    print( num1 , \"is Even\")\n",
    "else:\n",
    "    print(num1 , \"is Odd\")"
   ]
  },
  {
   "cell_type": "markdown",
   "metadata": {},
   "source": [
    "# 7. Vowel Tester\n",
    " Write a Python program to test whether a passed letter is a vowel or not\n",
    " Program Console Output 1:\n",
    " Enter a character: A\n",
    " Letter A is Vowel\n",
    " Program Console Output 2:\n",
    " Enter a character: e\n",
    " Letter e is Vowel\n",
    " Program Console Output 2:\n",
    " Enter a character: N\n",
    " Letter N is not Vowel"
   ]
  },
  {
   "cell_type": "code",
   "execution_count": 37,
   "metadata": {},
   "outputs": [
    {
     "name": "stdout",
     "output_type": "stream",
     "text": [
      "Enter a character:A\n",
      "Letter A is Vowel\n"
     ]
    }
   ],
   "source": [
    "char=str(input(\"Enter a character:\"))\n",
    "if char=='A' or char=='E' or char=='I' or char=='O' or char=='U' or char=='a' or char=='e' or char=='i' or char=='o' or char=='u':\n",
    "    print('Letter {} is Vowel'.format(char))\n",
    "else:\n",
    "    print('Letter {} is not Vowel'.format(char))\n"
   ]
  },
  {
   "cell_type": "code",
   "execution_count": 38,
   "metadata": {},
   "outputs": [
    {
     "name": "stdout",
     "output_type": "stream",
     "text": [
      "Enter a character:e\n",
      "Letter e is Vowel\n"
     ]
    }
   ],
   "source": [
    "char=str(input(\"Enter a character:\"))\n",
    "if char=='A' or char=='E' or char=='I' or char=='O' or char=='U' or char=='a' or char=='e' or char=='i' or char=='o' or char=='u':\n",
    "    print('Letter {} is Vowel'.format(char))\n",
    "else:\n",
    "    print('Letter {} is not Vowel'.format(char))\n"
   ]
  },
  {
   "cell_type": "code",
   "execution_count": 39,
   "metadata": {},
   "outputs": [
    {
     "name": "stdout",
     "output_type": "stream",
     "text": [
      "Enter a character:N\n",
      "Letter N is not Vowel\n"
     ]
    }
   ],
   "source": [
    "char=str(input(\"Enter a character:\"))\n",
    "if char=='A' or char=='E' or char=='I' or char=='O' or char=='U' or char=='a' or char=='e' or char=='i' or char=='o' or char=='u':\n",
    "    print('Letter {} is Vowel'.format(char))\n",
    "else:\n",
    "    print('Letter {} is not Vowel'.format(char))\n"
   ]
  },
  {
   "cell_type": "markdown",
   "metadata": {},
   "source": [
    "# 8. Triangle area\n",
    " Write a Python program that will accept the base and height of a triangle and compute the area\n",
    " Reference:\n",
    "https://www.mathgoodies.com/lessons/vol1/area_triangle"
   ]
  },
  {
   "cell_type": "code",
   "execution_count": 40,
   "metadata": {},
   "outputs": [
    {
     "name": "stdout",
     "output_type": "stream",
     "text": [
      "Enter base of Triangle:4\n",
      "Enter height of triangle:6.7\n",
      "Area of Triangle is: 13.4\n"
     ]
    }
   ],
   "source": [
    "b=float(input(\"Enter base of Triangle:\"))\n",
    "h=float(input(\"Enter height of triangle:\"))\n",
    "area=1/2*b*h\n",
    "print(\"Area of Triangle is:\", area)"
   ]
  },
  {
   "cell_type": "markdown",
   "metadata": {},
   "source": [
    "# 9. Calculate Interest\n",
    " Write a Python program to compute the future value of a specified principal amount, rate of interest, and a number of years\n",
    " Program Console Sample 1:\n",
    " Please enter principal amount: 10000\n",
    " Please Enter Rate of interest in %: 0.1\n",
    " Enter number of years for investment: 5\n",
    " After 5 years your principal amount 10000 over an interest rate of 0.1 % will be 16105.1"
   ]
  },
  {
   "cell_type": "code",
   "execution_count": 43,
   "metadata": {},
   "outputs": [
    {
     "name": "stdout",
     "output_type": "stream",
     "text": [
      "Please Enter Principle Amount:10000\n",
      "Please Enter Rate of Interest in %:0.1\n",
      "Enter number of years for investment:5\n",
      "After 5 your principle amount 10000 over an interest rate of 0.1 % will be 16105.100000000006\n"
     ]
    }
   ],
   "source": [
    "pv=int(input(\"Please Enter Principle Amount:\"))\n",
    "r=float(input(\"Please Enter Rate of Interest in %:\"))\n",
    "n=int(input(\"Enter number of years for investment:\"))\n",
    "fv=pv*(1+r)**n\n",
    "print('After {} your principle amount {} over an interest rate of {} % will be {}'.format(n,pv,r,fv))"
   ]
  },
  {
   "cell_type": "markdown",
   "metadata": {},
   "source": [
    "# 10. Euclidean distance\n",
    " write a Python program to compute the distance between the points (x1, y1) and (x2, y2).\n",
    " Program Console Sample 1:\n",
    " Enter Co-ordinate for x1: 2\n",
    " Enter Co-ordinate for x2: 4\n",
    " Enter Co-ordinate for y1: 4\n",
    " Enter Co-ordinate for y2: 4\n",
    " Distance between points (2, 4) and (4, 4) is 2"
   ]
  },
  {
   "cell_type": "markdown",
   "metadata": {},
   "source": [
    "###### Reference:\n",
    "https://en.wikipedia.org/wiki/Euclidean_distance"
   ]
  },
  {
   "cell_type": "code",
   "execution_count": 61,
   "metadata": {},
   "outputs": [
    {
     "name": "stdout",
     "output_type": "stream",
     "text": [
      "Enter Co-ordinate for x1:2\n",
      "Enter Co-ordinate for x2:4\n",
      "Enter Co-ordinate for y1:4\n",
      "Enter Co-ordinate for y2:4\n",
      "Distance Between Points(2,4) and (4,4) is  2.0\n"
     ]
    }
   ],
   "source": [
    "x1=int(input(\"Enter Co-ordinate for x1:\"))\n",
    "x2=int(input(\"Enter Co-ordinate for x2:\"))\n",
    "y1=int(input(\"Enter Co-ordinate for y1:\"))\n",
    "y2=int(input(\"Enter Co-ordinate for y2:\"))\n",
    "d=((x2-x1)**2+(y2-y1)**2)**0.5\n",
    "print(\"Distance Between Points(\"+str(x1)+\",\"+str(y1)+\") and (\"+str(x2)+\",\"+str(y2)+\") is \", d)"
   ]
  },
  {
   "cell_type": "markdown",
   "metadata": {},
   "source": [
    "# 11. Feet to Centimeter Converter\n",
    " Write a Python program to convert height in feet to centimetres.\n",
    " Program Console Sample 1:\n",
    " Enter Height in Feet: 5\n",
    " There are 152.4 Cm in 5 ft\n",
    " Reference:\n",
    "https://www.rapidtables.com/convert/length/feet-to-cm.html"
   ]
  },
  {
   "cell_type": "code",
   "execution_count": 64,
   "metadata": {},
   "outputs": [
    {
     "name": "stdout",
     "output_type": "stream",
     "text": [
      "Enter height in Feet:5\n",
      "There are 152.4 Cm in 5ft\n"
     ]
    }
   ],
   "source": [
    "Hft=int(input(\"Enter height in Feet:\"))\n",
    "Hcm=Hft*30.48\n",
    "print('There are {} Cm in {}ft'.format(Hcm,Hft))"
   ]
  },
  {
   "cell_type": "markdown",
   "metadata": {},
   "source": [
    "# 12. BMI Calculator\n",
    " Write a Python program to calculate body mass index\n",
    " Program Console Sample 1:\n",
    " Enter Height in Cm: 180\n",
    " Enter Weight in Kg: 75\n",
    " Your BMI is 23.15"
   ]
  },
  {
   "cell_type": "code",
   "execution_count": 66,
   "metadata": {},
   "outputs": [
    {
     "name": "stdout",
     "output_type": "stream",
     "text": [
      "Enter height in Cm:180\n",
      "Enter weight in Kg:75\n",
      "Your BMI is 23.148148148148145\n"
     ]
    }
   ],
   "source": [
    "hcm=int(input(\"Enter height in Cm:\"))\n",
    "w=int(input(\"Enter weight in Kg:\"))\n",
    "hm=hcm*0.01\n",
    "BMI=w/hm**2\n",
    "print(\"Your BMI is\", BMI)"
   ]
  },
  {
   "cell_type": "markdown",
   "metadata": {},
   "source": [
    "# 13. Sum of n Positive Integers\n",
    " Write a python program to sum of the first n positive integers\n",
    " Program Console Sample 1:\n",
    " Enter value of n: 5\n",
    " Sum of n Positive integers till 5 is 15"
   ]
  },
  {
   "cell_type": "code",
   "execution_count": 11,
   "metadata": {},
   "outputs": [
    {
     "name": "stdout",
     "output_type": "stream",
     "text": [
      "Enter value of n:5\n",
      "Sum of n Positive integers till 5 is 15\n"
     ]
    }
   ],
   "source": [
    "n=input(\"Enter value of n:\")\n",
    "n=int (n)\n",
    "sum=0\n",
    "for num in range(0,n+1,1): \n",
    "    sum=sum+num\n",
    "print(\"Sum of n Positive integers till\" , n , \"is\" , sum)"
   ]
  },
  {
   "cell_type": "markdown",
   "metadata": {},
   "source": [
    "# 14. Digits Sum of a Number\n",
    " Write a Python program to calculate the sum of the digits in an integer\n",
    " Program Console Sample 1:\n",
    " Enter a number: 15\n",
    " Sum of 1 + 5 is 6\n",
    " Program Console Sample 2:\n",
    " Enter a number: 1234\n",
    " Sum of 1 + 2 + 3 + 4 is 10"
   ]
  },
  {
   "cell_type": "code",
   "execution_count": 2,
   "metadata": {},
   "outputs": [
    {
     "name": "stdout",
     "output_type": "stream",
     "text": [
      "Enter a number:15\n",
      "sum of1+5. is 6.\n"
     ]
    }
   ],
   "source": [
    "num=int(input(\"Enter a number:\"))\n",
    "n=num\n",
    "total=0\n",
    "numbers=[]\n",
    "while num>0:\n",
    "    rem=num%10\n",
    "    numbers.append(rem)\n",
    "    total=total+rem\n",
    "    num=num//10\n",
    "print(\"sum of\" , end='')\n",
    "for i in range(len(numbers)-1 , -1 , -1):\n",
    "    if i==0:\n",
    "        print(f'{numbers[i]}.',end='')\n",
    "    else:\n",
    "        print(f'{numbers[i]}+',end='')\n",
    "    \n",
    "print( f' is {total}.')"
   ]
  },
  {
   "cell_type": "code",
   "execution_count": null,
   "metadata": {},
   "outputs": [],
   "source": []
  }
 ],
 "metadata": {
  "kernelspec": {
   "display_name": "Python 3",
   "language": "python",
   "name": "python3"
  },
  "language_info": {
   "codemirror_mode": {
    "name": "ipython",
    "version": 3
   },
   "file_extension": ".py",
   "mimetype": "text/x-python",
   "name": "python",
   "nbconvert_exporter": "python",
   "pygments_lexer": "ipython3",
   "version": "3.7.3"
  }
 },
 "nbformat": 4,
 "nbformat_minor": 2
}
