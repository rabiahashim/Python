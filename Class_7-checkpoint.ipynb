{
 "cells": [
  {
   "cell_type": "markdown",
   "metadata": {},
   "source": [
    "# KeyWord Arguments"
   ]
  },
  {
   "cell_type": "code",
   "execution_count": 29,
   "metadata": {},
   "outputs": [],
   "source": [
    "def name(fname,mname,lname):\n",
    "    print(f\"firt name:{fname}\")\n",
    "    print(f\"middle name:{mname}\")\n",
    "    print(f\"last name:{lname}\")"
   ]
  },
  {
   "cell_type": "code",
   "execution_count": 30,
   "metadata": {},
   "outputs": [
    {
     "name": "stdout",
     "output_type": "stream",
     "text": [
      "firt name:rabia\n",
      "middle name:hashim\n",
      "last name:arain\n"
     ]
    }
   ],
   "source": [
    "name('rabia','hashim','arain')"
   ]
  },
  {
   "cell_type": "code",
   "execution_count": 31,
   "metadata": {},
   "outputs": [
    {
     "name": "stdout",
     "output_type": "stream",
     "text": [
      "firt name:rabia\n",
      "middle name:hashim\n",
      "last name:arain\n"
     ]
    }
   ],
   "source": [
    "name(fname='rabia',mname='hashim',lname='arain')"
   ]
  },
  {
   "cell_type": "code",
   "execution_count": 32,
   "metadata": {},
   "outputs": [
    {
     "name": "stdout",
     "output_type": "stream",
     "text": [
      "firt name:lname\n",
      "middle name:fname\n",
      "last name:mname\n"
     ]
    }
   ],
   "source": [
    "name('lname','fname','mname')"
   ]
  },
  {
   "cell_type": "code",
   "execution_count": 33,
   "metadata": {},
   "outputs": [
    {
     "ename": "SyntaxError",
     "evalue": "positional argument follows keyword argument (<ipython-input-33-255a71662c3c>, line 1)",
     "output_type": "error",
     "traceback": [
      "\u001b[1;36m  File \u001b[1;32m\"<ipython-input-33-255a71662c3c>\"\u001b[1;36m, line \u001b[1;32m1\u001b[0m\n\u001b[1;33m    name('rabia',mname='hahim','arain')\u001b[0m\n\u001b[1;37m                              ^\u001b[0m\n\u001b[1;31mSyntaxError\u001b[0m\u001b[1;31m:\u001b[0m positional argument follows keyword argument\n"
     ]
    }
   ],
   "source": [
    "name('rabia',mname='hashim','arain')"
   ]
  },
  {
   "cell_type": "code",
   "execution_count": 34,
   "metadata": {},
   "outputs": [],
   "source": [
    "def name(fname,lname,mname):\n",
    "    print(f\"firt name:{fname}\")\n",
    "    print(f\"middle name:{mname}\")\n",
    "    print(f\"last name:{lname}\")"
   ]
  },
  {
   "cell_type": "code",
   "execution_count": 35,
   "metadata": {},
   "outputs": [
    {
     "name": "stdout",
     "output_type": "stream",
     "text": [
      "firt name:rabia\n",
      "middle name:hashim\n",
      "last name:arain\n"
     ]
    }
   ],
   "source": [
    "name('rabia','arain',mname='hashim')"
   ]
  },
  {
   "cell_type": "markdown",
   "metadata": {},
   "source": [
    "# Arbitrary Number of Argument"
   ]
  },
  {
   "cell_type": "code",
   "execution_count": 28,
   "metadata": {},
   "outputs": [],
   "source": [
    "def pizza(size, flavour,*toppings):\n",
    "    print(size,flavour)\n",
    "    print(toppings)\n"
   ]
  },
  {
   "cell_type": "code",
   "execution_count": 27,
   "metadata": {},
   "outputs": [
    {
     "name": "stdout",
     "output_type": "stream",
     "text": [
      "medium fajita\n",
      "('extra cheeze', 'olives', 'onions')\n"
     ]
    }
   ],
   "source": [
    "pizza('medium','fajita','extra cheeze','olives','onions')"
   ]
  },
  {
   "cell_type": "code",
   "execution_count": 1,
   "metadata": {},
   "outputs": [],
   "source": [
    "def car(make,model,**spec):\n",
    "    print(make,model)\n",
    "    print(spec)"
   ]
  },
  {
   "cell_type": "code",
   "execution_count": 3,
   "metadata": {},
   "outputs": [
    {
     "name": "stdout",
     "output_type": "stream",
     "text": [
      "toyota suzuki\n",
      "{'transmission': 'Automatic', 'power': 'yes', 'engine': 'high speed'}\n"
     ]
    }
   ],
   "source": [
    "car('toyota','suzuki',transmission='Automatic',power=\"yes\",engine='high speed') #transmisssion i keyword argument"
   ]
  },
  {
   "cell_type": "markdown",
   "metadata": {},
   "source": [
    "# FUNCTION AS VARIABLE"
   ]
  },
  {
   "cell_type": "code",
   "execution_count": 23,
   "metadata": {},
   "outputs": [],
   "source": [
    "def add(a , b):\n",
    "    k=a+b\n",
    "    return k"
   ]
  },
  {
   "cell_type": "code",
   "execution_count": null,
   "metadata": {},
   "outputs": [],
   "source": [
    "def multiply(a , b):\n",
    "    c=a*b\n",
    "    return c"
   ]
  },
  {
   "cell_type": "code",
   "execution_count": 25,
   "metadata": {},
   "outputs": [
    {
     "name": "stdout",
     "output_type": "stream",
     "text": [
      "25\n"
     ]
    }
   ],
   "source": [
    "result=add(3,4)+ multiply(6,3)\n",
    "print(result)"
   ]
  },
  {
   "cell_type": "code",
   "execution_count": 26,
   "metadata": {},
   "outputs": [
    {
     "name": "stdout",
     "output_type": "stream",
     "text": [
      "rabiahashim\n"
     ]
    }
   ],
   "source": [
    "result=add('rabia','hashim')\n",
    "print(result)"
   ]
  },
  {
   "cell_type": "markdown",
   "metadata": {},
   "source": [
    "# WHILE LOOP"
   ]
  },
  {
   "cell_type": "code",
   "execution_count": 1,
   "metadata": {},
   "outputs": [
    {
     "name": "stdout",
     "output_type": "stream",
     "text": [
      "0\n",
      "1\n",
      "2\n",
      "3\n",
      "4\n",
      "5\n",
      "6\n",
      "7\n",
      "8\n",
      "9\n"
     ]
    }
   ],
   "source": [
    "a=0\n",
    "while a<10:\n",
    "    print(a)\n",
    "    a=a+1\n",
    "    "
   ]
  },
  {
   "cell_type": "code",
   "execution_count": 5,
   "metadata": {},
   "outputs": [
    {
     "name": "stdout",
     "output_type": "stream",
     "text": [
      "Enter a toppingabc\n",
      "Enter a toppingcheeze\n",
      "Enter a toppingonion\n",
      "Enter a toppingjalphene\n",
      "Enter a toppingolive\n",
      "['abc', 'cheeze', 'onion', 'jalphene', 'olive']\n"
     ]
    }
   ],
   "source": [
    "toppings=[]\n",
    "for b in range(5):\n",
    "    topping=str(input(\"Enter a topping\"))\n",
    "    toppings.append(topping)\n",
    "print(toppings)"
   ]
  },
  {
   "cell_type": "code",
   "execution_count": 1,
   "metadata": {},
   "outputs": [
    {
     "name": "stdout",
     "output_type": "stream",
     "text": [
      "enter a toppingcheeze\n",
      "enter a toppingonion\n",
      "enter a toppinga\n",
      "['cheeze', 'onion']\n"
     ]
    }
   ],
   "source": [
    "toppings=[]\n",
    "flag=True\n",
    "while flag:\n",
    "        topping=input(\"enter a topping\")\n",
    "        if topping=='a':\n",
    "            flag = False\n",
    "        else:\n",
    "            toppings.append(topping)\n",
    "print(toppings)"
   ]
  },
  {
   "cell_type": "code",
   "execution_count": null,
   "metadata": {},
   "outputs": [
    {
     "name": "stdout",
     "output_type": "stream",
     "text": [
      "Pizza Order\n",
      "\n",
      "\n",
      "Enter Pizza Sizeextra large\n",
      "extra large not available\n",
      "Please enter the size again:\n",
      "Enter Pizza Sizemedium\n",
      "medium available\n"
     ]
    }
   ],
   "source": [
    "availableflavours=[\"fajita\",\"tikka\",\"maxicon\"]\n",
    "availablesize=[\"large\",\"medium\",\"small\"]\n",
    "availabletoppings=['olives','cheese','hurbs']\n",
    "print(\"Pizza Order\")\n",
    "print()\n",
    "print()\n",
    "flag=True\n",
    "while flag:\n",
    "    size=input(\"Enter Pizza Size\")\n",
    "    if size not in availablesize:\n",
    "        print(f\"{size} not available\")\n",
    "        print(\"Please enter the size again:\")\n",
    "    else:\n",
    "        print(f\"{size} available\")"
   ]
  },
  {
   "cell_type": "code",
   "execution_count": null,
   "metadata": {},
   "outputs": [],
   "source": []
  }
 ],
 "metadata": {
  "kernelspec": {
   "display_name": "Python 3",
   "language": "python",
   "name": "python3"
  },
  "language_info": {
   "codemirror_mode": {
    "name": "ipython",
    "version": 3
   },
   "file_extension": ".py",
   "mimetype": "text/x-python",
   "name": "python",
   "nbconvert_exporter": "python",
   "pygments_lexer": "ipython3",
   "version": "3.7.3"
  }
 },
 "nbformat": 4,
 "nbformat_minor": 2
}
